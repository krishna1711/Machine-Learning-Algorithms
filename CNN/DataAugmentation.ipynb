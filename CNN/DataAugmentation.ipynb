{
 "cells": [
  {
   "cell_type": "markdown",
   "metadata": {},
   "source": [
    "## Data Augmentation\n",
    "* We use a single image\n",
    "* We apply augmentation and save it"
   ]
  },
  {
   "cell_type": "code",
   "execution_count": 3,
   "metadata": {},
   "outputs": [
    {
     "name": "stderr",
     "output_type": "stream",
     "text": [
      "Using TensorFlow backend.\n"
     ]
    }
   ],
   "source": [
    "from keras.preprocessing.image import ImageDataGenerator\n",
    "from keras.preprocessing.image import array_to_img, img_to_array, load_img"
   ]
  },
  {
   "cell_type": "code",
   "execution_count": 4,
   "metadata": {},
   "outputs": [],
   "source": [
    "## defining what augments we want to apply on our image\n",
    "datagen = ImageDataGenerator(\n",
    "                                rotation_range=40,\n",
    "                                width_shift_range=0.2,\n",
    "                                height_shift_range=0.2,\n",
    "                                shear_range=0.2,\n",
    "                                zoom_range=0.2,\n",
    "                                horizontal_flip=True,\n",
    "                                fill_mode='nearest'\n",
    "                            )"
   ]
  },
  {
   "cell_type": "code",
   "execution_count": 5,
   "metadata": {},
   "outputs": [
    {
     "name": "stdout",
     "output_type": "stream",
     "text": [
      "Initial size (576, 1024, 3)\n",
      "after reshape size (1, 576, 1024, 3)\n"
     ]
    }
   ],
   "source": [
    "## loading the image and reshaping it to (1, img.shape)\n",
    "catimg = load_img(r'sampleData/cat1.jpg')\n",
    "x = img_to_array(catimg)\n",
    "print(\"Initial size\", x.shape)\n",
    "x = x.reshape((1,)+x.shape)\n",
    "print(\"after reshape size\", x.shape)\n"
   ]
  },
  {
   "cell_type": "code",
   "execution_count": 14,
   "metadata": {},
   "outputs": [],
   "source": [
    "## with datagen.flow we can achieve the data augmentation and save the imae\n",
    "for indx,batch in enumerate(datagen.flow(x,batch_size=1,save_to_dir=r'augmentedImages/cat',\n",
    "                               save_prefix='cat',save_format='jpeg')):\n",
    "    if indx > 20:\n",
    "        break\n"
   ]
  }
 ],
 "metadata": {
  "kernelspec": {
   "display_name": "Python 3",
   "language": "python",
   "name": "python3"
  },
  "language_info": {
   "codemirror_mode": {
    "name": "ipython",
    "version": 3
   },
   "file_extension": ".py",
   "mimetype": "text/x-python",
   "name": "python",
   "nbconvert_exporter": "python",
   "pygments_lexer": "ipython3",
   "version": "3.6.12"
  }
 },
 "nbformat": 4,
 "nbformat_minor": 4
}
